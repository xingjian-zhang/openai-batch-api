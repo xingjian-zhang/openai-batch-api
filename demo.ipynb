{
 "cells": [
  {
   "cell_type": "code",
   "execution_count": 1,
   "metadata": {},
   "outputs": [
    {
     "data": {
      "application/vnd.jupyter.widget-view+json": {
       "model_id": "82751089fc3749b4a9a79189c6878fdf",
       "version_major": 2,
       "version_minor": 0
      },
      "text/plain": [
       "  0%|          | 0/100 [00:00<?, ?req/s]"
      ]
     },
     "metadata": {},
     "output_type": "display_data"
    },
    {
     "data": {
      "application/vnd.jupyter.widget-view+json": {
       "model_id": "95b4582814344810987c941d565fd83a",
       "version_major": 2,
       "version_minor": 0
      },
      "text/plain": [
       "RPM:   0%|          | 0/246"
      ]
     },
     "metadata": {},
     "output_type": "display_data"
    },
    {
     "data": {
      "application/vnd.jupyter.widget-view+json": {
       "model_id": "1f82ee6109d0414f927aacce39868fb7",
       "version_major": 2,
       "version_minor": 0
      },
      "text/plain": [
       "TPM:   0%|          | 0/41000"
      ]
     },
     "metadata": {},
     "output_type": "display_data"
    },
    {
     "name": "stdout",
     "output_type": "stream",
     "text": [
      "\n",
      "Run took 25.63s.\n",
      "\n"
     ]
    },
    {
     "data": {
      "text/html": [
       "<div>\n",
       "<style scoped>\n",
       "    .dataframe tbody tr th:only-of-type {\n",
       "        vertical-align: middle;\n",
       "    }\n",
       "\n",
       "    .dataframe tbody tr th {\n",
       "        vertical-align: top;\n",
       "    }\n",
       "\n",
       "    .dataframe thead th {\n",
       "        text-align: right;\n",
       "    }\n",
       "</style>\n",
       "<table border=\"1\" class=\"dataframe\">\n",
       "  <thead>\n",
       "    <tr style=\"text-align: right;\">\n",
       "      <th></th>\n",
       "      <th>endpoint</th>\n",
       "      <th>model</th>\n",
       "      <th>messages</th>\n",
       "      <th>result</th>\n",
       "    </tr>\n",
       "  </thead>\n",
       "  <tbody>\n",
       "    <tr>\n",
       "      <th>0</th>\n",
       "      <td>chat.completions.create</td>\n",
       "      <td>gpt-35-turbo-16k-xingjian</td>\n",
       "      <td>[{'role': 'user', 'content': 'say hello'}]</td>\n",
       "      <td>{'id': 'chatcmpl-9CSznMF9Mvp5OjkGSJx8KXsY2zMQD...</td>\n",
       "    </tr>\n",
       "    <tr>\n",
       "      <th>1</th>\n",
       "      <td>chat.completions.create</td>\n",
       "      <td>gpt-35-turbo-16k-xingjian</td>\n",
       "      <td>[{'role': 'user', 'content': 'say hello'}]</td>\n",
       "      <td>{'id': 'chatcmpl-9CSzngkVc5LJ65Tg3CaDyJ5mnANOr...</td>\n",
       "    </tr>\n",
       "    <tr>\n",
       "      <th>2</th>\n",
       "      <td>chat.completions.create</td>\n",
       "      <td>gpt-35-turbo-16k-xingjian</td>\n",
       "      <td>[{'role': 'user', 'content': 'say hello'}]</td>\n",
       "      <td>{'id': 'chatcmpl-9CSznVM6RqlTnNIDgs1NjLIe2PxoE...</td>\n",
       "    </tr>\n",
       "    <tr>\n",
       "      <th>3</th>\n",
       "      <td>chat.completions.create</td>\n",
       "      <td>gpt-35-turbo-16k-xingjian</td>\n",
       "      <td>[{'role': 'user', 'content': 'say hello'}]</td>\n",
       "      <td>{'id': 'chatcmpl-9CSzn4RcKf1wqz2ql2NAh9Vwq5RCh...</td>\n",
       "    </tr>\n",
       "    <tr>\n",
       "      <th>4</th>\n",
       "      <td>chat.completions.create</td>\n",
       "      <td>gpt-35-turbo-16k-xingjian</td>\n",
       "      <td>[{'role': 'user', 'content': 'say hello'}]</td>\n",
       "      <td>{'id': 'chatcmpl-9CSznLc5TmDuYWWE2Jm0kNNjuFWyp...</td>\n",
       "    </tr>\n",
       "    <tr>\n",
       "      <th>...</th>\n",
       "      <td>...</td>\n",
       "      <td>...</td>\n",
       "      <td>...</td>\n",
       "      <td>...</td>\n",
       "    </tr>\n",
       "    <tr>\n",
       "      <th>95</th>\n",
       "      <td>chat.completions.create</td>\n",
       "      <td>gpt-35-turbo-16k-xingjian</td>\n",
       "      <td>[{'role': 'user', 'content': 'say hello'}]</td>\n",
       "      <td>{'id': 'chatcmpl-9CT0Bgvgef55OB5gvL5iQwVjN8SZ4...</td>\n",
       "    </tr>\n",
       "    <tr>\n",
       "      <th>96</th>\n",
       "      <td>chat.completions.create</td>\n",
       "      <td>gpt-35-turbo-16k-xingjian</td>\n",
       "      <td>[{'role': 'user', 'content': 'say hello'}]</td>\n",
       "      <td>{'id': 'chatcmpl-9CT0Bw2lftihO8HmzLHDyn0UHnV8J...</td>\n",
       "    </tr>\n",
       "    <tr>\n",
       "      <th>97</th>\n",
       "      <td>chat.completions.create</td>\n",
       "      <td>gpt-35-turbo-16k-xingjian</td>\n",
       "      <td>[{'role': 'user', 'content': 'say hello'}]</td>\n",
       "      <td>{'id': 'chatcmpl-9CT0B7IREsLKobVN9S56CrN2wcTAS...</td>\n",
       "    </tr>\n",
       "    <tr>\n",
       "      <th>98</th>\n",
       "      <td>chat.completions.create</td>\n",
       "      <td>gpt-35-turbo-16k-xingjian</td>\n",
       "      <td>[{'role': 'user', 'content': 'say hello'}]</td>\n",
       "      <td>{'id': 'chatcmpl-9CT0CruFSNlV9amsvtKkPFFUTXThr...</td>\n",
       "    </tr>\n",
       "    <tr>\n",
       "      <th>99</th>\n",
       "      <td>chat.completions.create</td>\n",
       "      <td>gpt-35-turbo-16k-xingjian</td>\n",
       "      <td>[{'role': 'user', 'content': 'say hello'}]</td>\n",
       "      <td>{'id': 'chatcmpl-9CT0CwzvYEJXQPkfoDR7E5TlOzSHh...</td>\n",
       "    </tr>\n",
       "  </tbody>\n",
       "</table>\n",
       "<p>100 rows × 4 columns</p>\n",
       "</div>"
      ],
      "text/plain": [
       "                   endpoint                      model  \\\n",
       "0   chat.completions.create  gpt-35-turbo-16k-xingjian   \n",
       "1   chat.completions.create  gpt-35-turbo-16k-xingjian   \n",
       "2   chat.completions.create  gpt-35-turbo-16k-xingjian   \n",
       "3   chat.completions.create  gpt-35-turbo-16k-xingjian   \n",
       "4   chat.completions.create  gpt-35-turbo-16k-xingjian   \n",
       "..                      ...                        ...   \n",
       "95  chat.completions.create  gpt-35-turbo-16k-xingjian   \n",
       "96  chat.completions.create  gpt-35-turbo-16k-xingjian   \n",
       "97  chat.completions.create  gpt-35-turbo-16k-xingjian   \n",
       "98  chat.completions.create  gpt-35-turbo-16k-xingjian   \n",
       "99  chat.completions.create  gpt-35-turbo-16k-xingjian   \n",
       "\n",
       "                                      messages  \\\n",
       "0   [{'role': 'user', 'content': 'say hello'}]   \n",
       "1   [{'role': 'user', 'content': 'say hello'}]   \n",
       "2   [{'role': 'user', 'content': 'say hello'}]   \n",
       "3   [{'role': 'user', 'content': 'say hello'}]   \n",
       "4   [{'role': 'user', 'content': 'say hello'}]   \n",
       "..                                         ...   \n",
       "95  [{'role': 'user', 'content': 'say hello'}]   \n",
       "96  [{'role': 'user', 'content': 'say hello'}]   \n",
       "97  [{'role': 'user', 'content': 'say hello'}]   \n",
       "98  [{'role': 'user', 'content': 'say hello'}]   \n",
       "99  [{'role': 'user', 'content': 'say hello'}]   \n",
       "\n",
       "                                               result  \n",
       "0   {'id': 'chatcmpl-9CSznMF9Mvp5OjkGSJx8KXsY2zMQD...  \n",
       "1   {'id': 'chatcmpl-9CSzngkVc5LJ65Tg3CaDyJ5mnANOr...  \n",
       "2   {'id': 'chatcmpl-9CSznVM6RqlTnNIDgs1NjLIe2PxoE...  \n",
       "3   {'id': 'chatcmpl-9CSzn4RcKf1wqz2ql2NAh9Vwq5RCh...  \n",
       "4   {'id': 'chatcmpl-9CSznLc5TmDuYWWE2Jm0kNNjuFWyp...  \n",
       "..                                                ...  \n",
       "95  {'id': 'chatcmpl-9CT0Bgvgef55OB5gvL5iQwVjN8SZ4...  \n",
       "96  {'id': 'chatcmpl-9CT0Bw2lftihO8HmzLHDyn0UHnV8J...  \n",
       "97  {'id': 'chatcmpl-9CT0B7IREsLKobVN9S56CrN2wcTAS...  \n",
       "98  {'id': 'chatcmpl-9CT0CruFSNlV9amsvtKkPFFUTXThr...  \n",
       "99  {'id': 'chatcmpl-9CT0CwzvYEJXQPkfoDR7E5TlOzSHh...  \n",
       "\n",
       "[100 rows x 4 columns]"
      ]
     },
     "execution_count": 1,
     "metadata": {},
     "output_type": "execute_result"
    }
   ],
   "source": [
    "from api import AzureConfig, Batch\n",
    "\n",
    "azure = AzureConfig()\n",
    "\n",
    "# Use low rate limits for this example.\n",
    "batch = Batch(tpm=41_000, workers=5, azure=azure)\n",
    "\n",
    "# Creating a batch with 20 chat completions.\n",
    "for i in range(100):\n",
    "    await batch.add(\n",
    "        \"chat.completions.create\",\n",
    "        model=\"gpt-35-turbo-16k-xingjian\",\n",
    "        messages=[{\"role\": \"user\", \"content\": \"say hello\"}]\n",
    "    )\n",
    "\n",
    "await batch.run()"
   ]
  },
  {
   "cell_type": "code",
   "execution_count": 2,
   "metadata": {},
   "outputs": [
    {
     "data": {
      "application/vnd.jupyter.widget-view+json": {
       "model_id": "e5e9058a0eec4ee9944fc810ce3ef9e6",
       "version_major": 2,
       "version_minor": 0
      },
      "text/plain": [
       "  0%|          | 0/100 [00:00<?, ?req/s]"
      ]
     },
     "metadata": {},
     "output_type": "display_data"
    },
    {
     "data": {
      "application/vnd.jupyter.widget-view+json": {
       "model_id": "6f4c2cc25a494294920a2691c181d851",
       "version_major": 2,
       "version_minor": 0
      },
      "text/plain": [
       "RPM:   0%|          | 0/1440"
      ]
     },
     "metadata": {},
     "output_type": "display_data"
    },
    {
     "data": {
      "application/vnd.jupyter.widget-view+json": {
       "model_id": "ae19a9a4cc7b4a9881e1b94d13047ab2",
       "version_major": 2,
       "version_minor": 0
      },
      "text/plain": [
       "TPM:   0%|          | 0/240000"
      ]
     },
     "metadata": {},
     "output_type": "display_data"
    },
    {
     "name": "stdout",
     "output_type": "stream",
     "text": [
      "\n",
      "Run took 4.53s.\n",
      "\n"
     ]
    },
    {
     "data": {
      "text/html": [
       "<div>\n",
       "<style scoped>\n",
       "    .dataframe tbody tr th:only-of-type {\n",
       "        vertical-align: middle;\n",
       "    }\n",
       "\n",
       "    .dataframe tbody tr th {\n",
       "        vertical-align: top;\n",
       "    }\n",
       "\n",
       "    .dataframe thead th {\n",
       "        text-align: right;\n",
       "    }\n",
       "</style>\n",
       "<table border=\"1\" class=\"dataframe\">\n",
       "  <thead>\n",
       "    <tr style=\"text-align: right;\">\n",
       "      <th></th>\n",
       "      <th>endpoint</th>\n",
       "      <th>model</th>\n",
       "      <th>input</th>\n",
       "      <th>result</th>\n",
       "    </tr>\n",
       "  </thead>\n",
       "  <tbody>\n",
       "    <tr>\n",
       "      <th>0</th>\n",
       "      <td>embeddings.create</td>\n",
       "      <td>text-embedding-api</td>\n",
       "      <td>[hello, hello, hello, hello, hello, hello, hel...</td>\n",
       "      <td>{'data': [{'embedding': [-0.02514086477458477,...</td>\n",
       "    </tr>\n",
       "    <tr>\n",
       "      <th>1</th>\n",
       "      <td>embeddings.create</td>\n",
       "      <td>text-embedding-api</td>\n",
       "      <td>[hello, hello, hello, hello, hello, hello, hel...</td>\n",
       "      <td>{'data': [{'embedding': [-0.02514086477458477,...</td>\n",
       "    </tr>\n",
       "    <tr>\n",
       "      <th>2</th>\n",
       "      <td>embeddings.create</td>\n",
       "      <td>text-embedding-api</td>\n",
       "      <td>[hello, hello, hello, hello, hello, hello, hel...</td>\n",
       "      <td>{'data': [{'embedding': [-0.02514086477458477,...</td>\n",
       "    </tr>\n",
       "    <tr>\n",
       "      <th>3</th>\n",
       "      <td>embeddings.create</td>\n",
       "      <td>text-embedding-api</td>\n",
       "      <td>[hello, hello, hello, hello, hello, hello, hel...</td>\n",
       "      <td>{'data': [{'embedding': [-0.02514086477458477,...</td>\n",
       "    </tr>\n",
       "    <tr>\n",
       "      <th>4</th>\n",
       "      <td>embeddings.create</td>\n",
       "      <td>text-embedding-api</td>\n",
       "      <td>[hello, hello, hello, hello, hello, hello, hel...</td>\n",
       "      <td>{'data': [{'embedding': [-0.02514086477458477,...</td>\n",
       "    </tr>\n",
       "    <tr>\n",
       "      <th>...</th>\n",
       "      <td>...</td>\n",
       "      <td>...</td>\n",
       "      <td>...</td>\n",
       "      <td>...</td>\n",
       "    </tr>\n",
       "    <tr>\n",
       "      <th>95</th>\n",
       "      <td>embeddings.create</td>\n",
       "      <td>text-embedding-api</td>\n",
       "      <td>[hello, hello, hello, hello, hello, hello, hel...</td>\n",
       "      <td>{'data': [{'embedding': [-0.02514086477458477,...</td>\n",
       "    </tr>\n",
       "    <tr>\n",
       "      <th>96</th>\n",
       "      <td>embeddings.create</td>\n",
       "      <td>text-embedding-api</td>\n",
       "      <td>[hello, hello, hello, hello, hello, hello, hel...</td>\n",
       "      <td>{'data': [{'embedding': [-0.02514086477458477,...</td>\n",
       "    </tr>\n",
       "    <tr>\n",
       "      <th>97</th>\n",
       "      <td>embeddings.create</td>\n",
       "      <td>text-embedding-api</td>\n",
       "      <td>[hello, hello, hello, hello, hello, hello, hel...</td>\n",
       "      <td>{'data': [{'embedding': [-0.02514086477458477,...</td>\n",
       "    </tr>\n",
       "    <tr>\n",
       "      <th>98</th>\n",
       "      <td>embeddings.create</td>\n",
       "      <td>text-embedding-api</td>\n",
       "      <td>[hello, hello, hello, hello, hello, hello, hel...</td>\n",
       "      <td>{'data': [{'embedding': [-0.02514086477458477,...</td>\n",
       "    </tr>\n",
       "    <tr>\n",
       "      <th>99</th>\n",
       "      <td>embeddings.create</td>\n",
       "      <td>text-embedding-api</td>\n",
       "      <td>[hello, hello, hello, hello, hello, hello, hel...</td>\n",
       "      <td>{'data': [{'embedding': [-0.02514086477458477,...</td>\n",
       "    </tr>\n",
       "  </tbody>\n",
       "</table>\n",
       "<p>100 rows × 4 columns</p>\n",
       "</div>"
      ],
      "text/plain": [
       "             endpoint               model  \\\n",
       "0   embeddings.create  text-embedding-api   \n",
       "1   embeddings.create  text-embedding-api   \n",
       "2   embeddings.create  text-embedding-api   \n",
       "3   embeddings.create  text-embedding-api   \n",
       "4   embeddings.create  text-embedding-api   \n",
       "..                ...                 ...   \n",
       "95  embeddings.create  text-embedding-api   \n",
       "96  embeddings.create  text-embedding-api   \n",
       "97  embeddings.create  text-embedding-api   \n",
       "98  embeddings.create  text-embedding-api   \n",
       "99  embeddings.create  text-embedding-api   \n",
       "\n",
       "                                                input  \\\n",
       "0   [hello, hello, hello, hello, hello, hello, hel...   \n",
       "1   [hello, hello, hello, hello, hello, hello, hel...   \n",
       "2   [hello, hello, hello, hello, hello, hello, hel...   \n",
       "3   [hello, hello, hello, hello, hello, hello, hel...   \n",
       "4   [hello, hello, hello, hello, hello, hello, hel...   \n",
       "..                                                ...   \n",
       "95  [hello, hello, hello, hello, hello, hello, hel...   \n",
       "96  [hello, hello, hello, hello, hello, hello, hel...   \n",
       "97  [hello, hello, hello, hello, hello, hello, hel...   \n",
       "98  [hello, hello, hello, hello, hello, hello, hel...   \n",
       "99  [hello, hello, hello, hello, hello, hello, hel...   \n",
       "\n",
       "                                               result  \n",
       "0   {'data': [{'embedding': [-0.02514086477458477,...  \n",
       "1   {'data': [{'embedding': [-0.02514086477458477,...  \n",
       "2   {'data': [{'embedding': [-0.02514086477458477,...  \n",
       "3   {'data': [{'embedding': [-0.02514086477458477,...  \n",
       "4   {'data': [{'embedding': [-0.02514086477458477,...  \n",
       "..                                                ...  \n",
       "95  {'data': [{'embedding': [-0.02514086477458477,...  \n",
       "96  {'data': [{'embedding': [-0.02514086477458477,...  \n",
       "97  {'data': [{'embedding': [-0.02514086477458477,...  \n",
       "98  {'data': [{'embedding': [-0.02514086477458477,...  \n",
       "99  {'data': [{'embedding': [-0.02514086477458477,...  \n",
       "\n",
       "[100 rows x 4 columns]"
      ]
     },
     "execution_count": 2,
     "metadata": {},
     "output_type": "execute_result"
    }
   ],
   "source": [
    "batch = Batch(tpm=240_000, workers=5, azure=azure)\n",
    "\n",
    "for i in range(100):\n",
    "    await batch.add(\n",
    "        \"embeddings.create\",\n",
    "        model=\"text-embedding-api\",\n",
    "        input=[\"hello\"] * 16\n",
    "    )\n",
    "\n",
    "await batch.run()"
   ]
  }
 ],
 "metadata": {
  "kernelspec": {
   "display_name": "openai",
   "language": "python",
   "name": "python3"
  },
  "language_info": {
   "codemirror_mode": {
    "name": "ipython",
    "version": 3
   },
   "file_extension": ".py",
   "mimetype": "text/x-python",
   "name": "python",
   "nbconvert_exporter": "python",
   "pygments_lexer": "ipython3",
   "version": "3.9.16"
  }
 },
 "nbformat": 4,
 "nbformat_minor": 2
}
